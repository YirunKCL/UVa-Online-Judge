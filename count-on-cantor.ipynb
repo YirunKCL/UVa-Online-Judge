{
 "cells": [
  {
   "cell_type": "code",
   "execution_count": 1,
   "metadata": {
    "execution": {
     "iopub.execute_input": "2021-02-23T21:15:20.990478Z",
     "iopub.status.busy": "2021-02-23T21:15:20.989739Z",
     "iopub.status.idle": "2021-02-23T21:15:20.993092Z",
     "shell.execute_reply": "2021-02-23T21:15:20.992355Z"
    },
    "papermill": {
     "duration": 0.015736,
     "end_time": "2021-02-23T21:15:20.993284",
     "exception": false,
     "start_time": "2021-02-23T21:15:20.977548",
     "status": "completed"
    },
    "tags": []
   },
   "outputs": [],
   "source": [
    "def CountonCantor(N):\n",
    "    n, i, j = 1, 1, 1\n",
    "    if N == 1:\n",
    "        return i, j\n",
    "    while True:\n",
    "        j += 1\n",
    "        n += 1\n",
    "        if n == N:\n",
    "            return i, j\n",
    "        while j > 1:\n",
    "            i += 1\n",
    "            j -= 1\n",
    "            n += 1\n",
    "            if n == N:\n",
    "                return i, j\n",
    "        i += 1\n",
    "        n += 1\n",
    "        if n == N:\n",
    "            return i, j\n",
    "        while i > 1:\n",
    "            i -= 1\n",
    "            j += 1\n",
    "            n += 1\n",
    "            if n == N:\n",
    "                return i, j"
   ]
  },
  {
   "cell_type": "code",
   "execution_count": 2,
   "metadata": {
    "execution": {
     "iopub.execute_input": "2021-02-23T21:15:21.005469Z",
     "iopub.status.busy": "2021-02-23T21:15:21.004412Z",
     "iopub.status.idle": "2021-02-23T21:15:21.008567Z",
     "shell.execute_reply": "2021-02-23T21:15:21.009338Z"
    },
    "papermill": {
     "duration": 0.013065,
     "end_time": "2021-02-23T21:15:21.009525",
     "exception": false,
     "start_time": "2021-02-23T21:15:20.996460",
     "status": "completed"
    },
    "tags": []
   },
   "outputs": [
    {
     "name": "stdout",
     "output_type": "stream",
     "text": [
      "TERM 3 IS 2/1\n",
      "TERM 14 IS 2/4\n",
      "TERM 7 IS 1/4\n"
     ]
    }
   ],
   "source": [
    "for N in [3, 14, 7]:\n",
    "    i, j = CountonCantor(N)\n",
    "    print('TERM', N, 'IS', f'{i}/{j}')"
   ]
  }
 ],
 "metadata": {
  "kernelspec": {
   "display_name": "Python 3",
   "language": "python",
   "name": "python3"
  },
  "language_info": {
   "codemirror_mode": {
    "name": "ipython",
    "version": 3
   },
   "file_extension": ".py",
   "mimetype": "text/x-python",
   "name": "python",
   "nbconvert_exporter": "python",
   "pygments_lexer": "ipython3",
   "version": "3.7.9"
  },
  "papermill": {
   "default_parameters": {},
   "duration": 6.619746,
   "end_time": "2021-02-23T21:15:21.524387",
   "environment_variables": {},
   "exception": null,
   "input_path": "__notebook__.ipynb",
   "output_path": "__notebook__.ipynb",
   "parameters": {},
   "start_time": "2021-02-23T21:15:14.904641",
   "version": "2.2.2"
  }
 },
 "nbformat": 4,
 "nbformat_minor": 4
}
