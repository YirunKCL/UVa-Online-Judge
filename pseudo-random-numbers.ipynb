{
 "cells": [
  {
   "cell_type": "code",
   "execution_count": 1,
   "metadata": {
    "execution": {
     "iopub.execute_input": "2021-02-23T21:32:01.612540Z",
     "iopub.status.busy": "2021-02-23T21:32:01.611846Z",
     "iopub.status.idle": "2021-02-23T21:32:01.615494Z",
     "shell.execute_reply": "2021-02-23T21:32:01.614766Z"
    },
    "papermill": {
     "duration": 0.015941,
     "end_time": "2021-02-23T21:32:01.615699",
     "exception": false,
     "start_time": "2021-02-23T21:32:01.599758",
     "status": "completed"
    },
    "tags": []
   },
   "outputs": [],
   "source": [
    "def PseduoRandomNumbers(Z, I, M, L):\n",
    "    num = []\n",
    "    n = L\n",
    "    while True:\n",
    "        n = (Z * n + I) % M\n",
    "        if n in num:\n",
    "            return len(num) - num.index(n)\n",
    "        num.append(n)"
   ]
  },
  {
   "cell_type": "code",
   "execution_count": 2,
   "metadata": {
    "execution": {
     "iopub.execute_input": "2021-02-23T21:32:01.633780Z",
     "iopub.status.busy": "2021-02-23T21:32:01.632932Z",
     "iopub.status.idle": "2021-02-23T21:32:01.638445Z",
     "shell.execute_reply": "2021-02-23T21:32:01.637647Z"
    },
    "papermill": {
     "duration": 0.019895,
     "end_time": "2021-02-23T21:32:01.638674",
     "exception": false,
     "start_time": "2021-02-23T21:32:01.618779",
     "status": "completed"
    },
    "tags": []
   },
   "outputs": [
    {
     "name": "stdout",
     "output_type": "stream",
     "text": [
      "Case 1: 6\n",
      "Case 2: 546\n",
      "Case 3: 500\n",
      "Case 4: 220\n"
     ]
    }
   ],
   "source": [
    "for i, (Z, I, M, L) in enumerate(((7, 5, 12, 4), (5173, 3849, 3279, 1511), (9111, 5309, 6000, 1234), (1079, 2136, 9999, 1237))):\n",
    "    print(f'Case {i + 1}:', PseduoRandomNumbers(Z, I, M, L))"
   ]
  }
 ],
 "metadata": {
  "kernelspec": {
   "display_name": "Python 3",
   "language": "python",
   "name": "python3"
  },
  "language_info": {
   "codemirror_mode": {
    "name": "ipython",
    "version": 3
   },
   "file_extension": ".py",
   "mimetype": "text/x-python",
   "name": "python",
   "nbconvert_exporter": "python",
   "pygments_lexer": "ipython3",
   "version": "3.7.9"
  },
  "papermill": {
   "default_parameters": {},
   "duration": 6.565922,
   "end_time": "2021-02-23T21:32:02.256179",
   "environment_variables": {},
   "exception": null,
   "input_path": "__notebook__.ipynb",
   "output_path": "__notebook__.ipynb",
   "parameters": {},
   "start_time": "2021-02-23T21:31:55.690257",
   "version": "2.2.2"
  }
 },
 "nbformat": 4,
 "nbformat_minor": 4
}
