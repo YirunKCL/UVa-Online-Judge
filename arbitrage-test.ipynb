{
 "cells": [
  {
   "cell_type": "code",
   "execution_count": 1,
   "metadata": {
    "execution": {
     "iopub.execute_input": "2021-02-19T19:24:30.729840Z",
     "iopub.status.busy": "2021-02-19T19:24:30.729124Z",
     "iopub.status.idle": "2021-02-19T19:24:30.732376Z",
     "shell.execute_reply": "2021-02-19T19:24:30.731773Z"
    },
    "papermill": {
     "duration": 0.02255,
     "end_time": "2021-02-19T19:24:30.732579",
     "exception": false,
     "start_time": "2021-02-19T19:24:30.710029",
     "status": "completed"
    },
    "tags": []
   },
   "outputs": [],
   "source": [
    "import numpy as np\n",
    "\n",
    "def Arbitrage(curr):\n",
    "    # Add 1 to the diagonal of currency matrix\n",
    "    # Initialise path\n",
    "    n = curr.shape[0]\n",
    "    curr_full = np.zeros((n, n))\n",
    "    path = np.zeros((n, n, n))\n",
    "    for i in range(n):\n",
    "        for j in range(n):\n",
    "            if i == j:\n",
    "                curr_full[i, j] = 1\n",
    "            elif i > j:\n",
    "                curr_full[i, j] = curr[i, j]\n",
    "            else:\n",
    "                curr_full[i, j] = curr[i, j - 1]\n",
    "        path[0, i] = i\n",
    "        \n",
    "    # Modified Floyd-Warshall Algorithm\n",
    "    profit = np.zeros((n, n, n))\n",
    "    profit[0] = curr_full.copy()\n",
    "    for s in range(1, n):\n",
    "        for k in range(n):\n",
    "            for i in range(n):\n",
    "                for j in range(n):\n",
    "                    if profit[s - 1, i, k] * profit[0, k, j] > profit[s, i, j]:\n",
    "                        profit[s, i, j] = profit[s - 1, i, k] * profit[0, k, j]\n",
    "                        path[s, i, j] = k\n",
    "    \n",
    "    # Find shortest path with > 1.01 profit\n",
    "    curr_num = -1\n",
    "    for s in range(1, n):\n",
    "        for i in range(n):\n",
    "            if profit[s, i, i] > 1.01:\n",
    "                curr_num = i\n",
    "                break\n",
    "        if curr_num != -1:\n",
    "            break\n",
    "    step = s\n",
    "    \n",
    "    # Return sequence\n",
    "    if curr_num == -1:\n",
    "        return 'no arbitrage sequence exists'\n",
    "    else:\n",
    "        seq = [curr_num + 1]\n",
    "        tmp = curr_num\n",
    "        for s in range(step, -1, -1):\n",
    "            tmp = path[s, curr_num, tmp].astype(int)\n",
    "            seq.append(tmp + 1)\n",
    "        seq.reverse()\n",
    "        return seq"
   ]
  },
  {
   "cell_type": "code",
   "execution_count": 2,
   "metadata": {
    "execution": {
     "iopub.execute_input": "2021-02-19T19:24:30.742234Z",
     "iopub.status.busy": "2021-02-19T19:24:30.741691Z",
     "iopub.status.idle": "2021-02-19T19:24:30.750026Z",
     "shell.execute_reply": "2021-02-19T19:24:30.750527Z"
    },
    "papermill": {
     "duration": 0.014365,
     "end_time": "2021-02-19T19:24:30.750688",
     "exception": false,
     "start_time": "2021-02-19T19:24:30.736323",
     "status": "completed"
    },
    "tags": []
   },
   "outputs": [
    {
     "name": "stdout",
     "output_type": "stream",
     "text": [
      "[1, 2, 1]\n",
      "[1, 2, 4, 1]\n",
      "no arbitrage sequence exists\n"
     ]
    }
   ],
   "source": [
    "curr1 = np.array([[1.2, .89], \n",
    "                  [.88, 5.1], \n",
    "                  [1.1, 0.15]])\n",
    "\n",
    "curr2 = np.array([[3.1, 0.0023, 0.35], \n",
    "                  [0.21, 0.00353, 8.13], \n",
    "                  [200, 180.559, 10.339], \n",
    "                  [2.11, 0.089, 0.06111]])\n",
    "\n",
    "curr3 = np.array([[2.0], \n",
    "                  [0.45]])\n",
    "\n",
    "seq1 = Arbitrage(curr1)\n",
    "print(seq1)\n",
    "\n",
    "seq2 = Arbitrage(curr2)\n",
    "print(seq2)\n",
    "\n",
    "seq3 = Arbitrage(curr3)\n",
    "print(seq3)"
   ]
  },
  {
   "cell_type": "code",
   "execution_count": 3,
   "metadata": {
    "execution": {
     "iopub.execute_input": "2021-02-19T19:24:30.761820Z",
     "iopub.status.busy": "2021-02-19T19:24:30.761217Z",
     "iopub.status.idle": "2021-02-19T19:24:31.055741Z",
     "shell.execute_reply": "2021-02-19T19:24:31.055141Z"
    },
    "papermill": {
     "duration": 0.301039,
     "end_time": "2021-02-19T19:24:31.055954",
     "exception": false,
     "start_time": "2021-02-19T19:24:30.754915",
     "status": "completed"
    },
    "tags": []
   },
   "outputs": [
    {
     "name": "stdout",
     "output_type": "stream",
     "text": [
      "[10, 16, 10, 16, 10]\n"
     ]
    }
   ],
   "source": [
    "curr_test = np.array([[0.38, 0.88, 0.33, 0.85, 0.76, 0.62, 0.15, 0.69, 0.42, 0.96, 0.19, 0.62, 0.54, 0.90, 0.95, 0.08, 0.99, 0.78, 0.42], \n",
    "                      [0.51, 0.86, 0.43, 0.20, 0.21, 0.27, 0.24, 0.21, 0.20, 0.37, 0.11, 0.74, 0.50, 0.44, 0.52, 0.71, 0.62, 0.49, 1.03], \n",
    "                      [0.51, 0.06, 0.83, 0.68, 0.60, 0.48, 0.37, 0.11, 0.15, 0.68, 0.47, 0.54, 0.63, 0.80, 0.49, 0.23, 0.87, 1.03, 0.57], \n",
    "                      [0.37, 0.62, 0.55, 0.94, 0.58, 0.61, 0.09, 0.85, 0.69, 0.78, 0.92, 0.89, 0.76, 0.46, 0.25, 0.83, 0.21, 0.49, 0.12], \n",
    "                      [0.01, 0.40, 0.31, 0.09, 0.38, 0.42, 1.03, 0.81, 1.00, 0.04, 0.91, 0.46, 0.21, 0.41, 0.05, 0.65, 0.69, 0.84, 0.70], \n",
    "                      [0.88, 1.04, 0.69, 0.38, 0.61, 0.57, 0.36, 0.24, 0.72, 0.12, 0.95, 0.71, 0.98, 0.56, 0.34, 0.76, 0.33, 0.68, 0.94], \n",
    "                      [0.03, 0.40, 0.73, 0.70, 0.25, 0.24, 0.41, 0.92, 0.71, 0.87, 0.23, 0.75, 0.76, 0.59, 0.51, 1.00, 0.55, 0.62, 0.70], \n",
    "                      [0.65, 0.72, 0.95, 0.65, 0.40, 0.99, 0.59, 0.25, 0.85, 0.80, 0.45, 0.64, 0.46, 0.36, 0.77, 0.28, 0.92, 0.24, 0.92], \n",
    "                      [0.78, 0.49, 0.05, 0.01, 0.73, 0.06, 0.98, 0.67, 0.29, 0.27, 0.48, 0.43, 0.46, 0.61, 0.71, 0.76, 0.56, 0.28, 0.33], \n",
    "                      [0.81, 0.73, 0.92, 0.16, 0.97, 0.77, 1.03, 0.86, 0.38, 0.62, 0.89, 0.48, 0.45, 0.08, 1.04, 0.76, 0.11, 0.20, 0.18], \n",
    "                      [0.63, 0.70, 0.49, 0.64, 0.73, 0.51, 0.41, 0.51, 0.35, 0.31, 0.33, 0.75, 0.10, 0.84, 0.94, 0.90, 1.02, 0.33, 0.80], \n",
    "                      [0.67, 0.57, 0.94, 0.86, 0.02, 0.67, 0.14, 0.49, 0.75, 0.82, 0.41, 0.28, 0.45, 0.31, 0.31, 0.32, 0.21, 0.03, 0.78], \n",
    "                      [0.26, 0.88, 0.17, 0.01, 0.56, 0.04, 0.93, 1.04, 0.79, 0.39, 0.36, 0.69, 0.65, 0.80, 0.99, 0.30, 0.42, 1.00, 0.99], \n",
    "                      [0.42, 0.10, 0.00, 0.35, 0.38, 0.56, 0.64, 1.01, 0.67, 0.55, 0.56, 0.41, 0.05, 0.16, 0.42, 0.74, 0.40, 0.26, 0.83], \n",
    "                      [0.58, 1.03, 0.66, 0.16, 0.84, 0.06, 0.69, 1.04, 0.62, 0.77, 0.98, 0.67, 0.50, 0.05, 0.74, 0.60, 0.89, 0.91, 1.03], \n",
    "                      [0.57, 0.68, 0.95, 0.99, 0.27, 0.14, 1.02, 0.34, 0.23, 0.97, 0.22, 0.66, 0.70, 0.09, 0.64, 0.20, 0.39, 0.14, 1.04], \n",
    "                      [0.37, 0.14, 0.50, 0.64, 0.30, 0.17, 1.00, 1.01, 0.98, 0.34, 1.03, 0.72, 0.94, 0.67, 0.74, 0.82, 0.75, 0.57, 0.69], \n",
    "                      [0.84, 0.29, 0.53, 0.01, 0.77, 0.09, 0.93, 0.94, 0.11, 0.32, 0.36, 0.11, 1.00, 0.38, 0.30, 0.74, 0.80, 0.77, 0.94], \n",
    "                      [0.04, 0.48, 0.97, 0.54, 0.81, 0.33, 0.67, 0.10, 0.83, 0.94, 0.22, 0.52, 0.90, 0.62, 0.79, 0.90, 0.40, 0.26, 0.23], \n",
    "                      [0.55, 0.48, 0.75, 0.96, 0.65, 0.21, 0.98, 0.71, 0.91, 0.63, 0.94, 0.62, 0.56, 0.90, 0.89, 0.00, 0.43, 0.43, 0.08]])\n",
    "\n",
    "seq_test = Arbitrage(curr_test)\n",
    "print(seq_test)"
   ]
  }
 ],
 "metadata": {
  "kernelspec": {
   "display_name": "Python 3",
   "language": "python",
   "name": "python3"
  },
  "language_info": {
   "codemirror_mode": {
    "name": "ipython",
    "version": 3
   },
   "file_extension": ".py",
   "mimetype": "text/x-python",
   "name": "python",
   "nbconvert_exporter": "python",
   "pygments_lexer": "ipython3",
   "version": "3.7.9"
  },
  "papermill": {
   "default_parameters": {},
   "duration": 6.30286,
   "end_time": "2021-02-19T19:24:31.568818",
   "environment_variables": {},
   "exception": null,
   "input_path": "__notebook__.ipynb",
   "output_path": "__notebook__.ipynb",
   "parameters": {},
   "start_time": "2021-02-19T19:24:25.265958",
   "version": "2.2.2"
  }
 },
 "nbformat": 4,
 "nbformat_minor": 4
}
