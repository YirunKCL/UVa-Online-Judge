{
 "cells": [
  {
   "cell_type": "code",
   "execution_count": 1,
   "metadata": {
    "execution": {
     "iopub.execute_input": "2021-02-24T17:11:54.428505Z",
     "iopub.status.busy": "2021-02-24T17:11:54.427824Z",
     "iopub.status.idle": "2021-02-24T17:11:54.441195Z",
     "shell.execute_reply": "2021-02-24T17:11:54.441669Z"
    },
    "papermill": {
     "duration": 0.020736,
     "end_time": "2021-02-24T17:11:54.442024",
     "exception": false,
     "start_time": "2021-02-24T17:11:54.421288",
     "status": "completed"
    },
    "tags": []
   },
   "outputs": [],
   "source": [
    "import numpy as np\n",
    "\n",
    "def France98(Proba):\n",
    "    P = Proba.copy() / 100\n",
    "    two, four, eight, sixteen = np.zeros((4, 16))\n",
    "    for i in range(0, 16, 2):\n",
    "        two[i] = P[i, i + 1]\n",
    "        two[i + 1] = P[i + 1, i]\n",
    "    for i in range(0, 16, 4):\n",
    "        four[i] = two[i] * (P[i, i + 2] * two[i + 2] + P[i, i + 3] * two[i + 3])\n",
    "        four[i + 1] = two[i + 1] * (P[i + 1, i + 2] * two[i + 2] + P[i + 1, i + 3] * two[i + 3])\n",
    "        four[i + 2] = two[i + 2] * (P[i + 2, i] * two[i] + P[i + 2, i + 1] * two[i + 1])\n",
    "        four[i + 3] = two[i + 3] * (P[i + 3, i] * two[i] + P[i + 3, i + 1] * two[i + 1])\n",
    "    for i in range(16):\n",
    "        if i < 4:\n",
    "            tmp = 0\n",
    "            for j in range(4, 8):\n",
    "                tmp += P[i, j] * four[j]\n",
    "            eight[i] = four[i] * tmp\n",
    "        elif (i >= 4) and (i < 8):\n",
    "            tmp = 0\n",
    "            for j in range(4):\n",
    "                tmp += P[i, j] * four[j]\n",
    "            eight[i] = four[i] * tmp\n",
    "        elif (i >= 8) and (i < 12):\n",
    "            tmp = 0\n",
    "            for j in range(12, 16):\n",
    "                tmp += P[i, j] * four[j]\n",
    "            eight[i] = four[i] * tmp\n",
    "        else:\n",
    "            tmp = 0\n",
    "            for j in range(8, 12):\n",
    "                tmp += P[i, j] * four[j]\n",
    "            eight[i] = four[i] * tmp\n",
    "    for i in range(16):\n",
    "        if i < 8:\n",
    "            tmp = 0\n",
    "            for j in range(8, 16):\n",
    "                tmp += P[i, j] * eight[j]\n",
    "            sixteen[i] = eight[i] * tmp\n",
    "        else:\n",
    "            tmp = 0\n",
    "            for j in range(8):\n",
    "                tmp += P[i, j] * eight[j]\n",
    "            sixteen[i] = eight[i] * tmp\n",
    "    return sixteen"
   ]
  },
  {
   "cell_type": "code",
   "execution_count": 2,
   "metadata": {
    "execution": {
     "iopub.execute_input": "2021-02-24T17:11:54.450350Z",
     "iopub.status.busy": "2021-02-24T17:11:54.449715Z",
     "iopub.status.idle": "2021-02-24T17:11:54.468174Z",
     "shell.execute_reply": "2021-02-24T17:11:54.468610Z"
    },
    "papermill": {
     "duration": 0.023998,
     "end_time": "2021-02-24T17:11:54.468825",
     "exception": false,
     "start_time": "2021-02-24T17:11:54.444827",
     "status": "completed"
    },
    "tags": []
   },
   "outputs": [
    {
     "name": "stdout",
     "output_type": "stream",
     "text": [
      "Brazil     \t p=8.54%\n",
      "Chile      \t p=1.6%\n",
      "Nigeria    \t p=8.06%\n",
      "Denmark    \t p=2.79%\n",
      "Holland    \t p=4.51%\n",
      "Yugoslavia \t p=7.5%\n",
      "Argentina  \t p=8.38%\n",
      "England    \t p=1.56%\n",
      "Italy      \t p=9.05%\n",
      "Norway     \t p=3.23%\n",
      "France     \t p=13.72%\n",
      "Paraguay   \t p=3.09%\n",
      "Germany    \t p=13.79%\n",
      "Mexico     \t p=3.11%\n",
      "Romania    \t p=5.53%\n",
      "Croatia    \t p=5.53%\n"
     ]
    }
   ],
   "source": [
    "countries = ['Brazil', 'Chile', 'Nigeria', 'Denmark', 'Holland', \n",
    "             'Yugoslavia', 'Argentina', 'England', 'Italy', 'Norway', \n",
    "             'France', 'Paraguay', 'Germany', 'Mexico', 'Romania', 'Croatia']\n",
    "\n",
    "P = np.array([[50, 65, 50, 60, 55, 50, 50, 65, 45, 55, 40, 55, 40, 55, 50, 50],\n",
    "              [35, 50, 35, 45, 40, 35, 35, 50, 30, 40, 25, 40, 25, 40, 35, 35],\n",
    "              [50, 65, 50, 60, 55, 50, 50, 65, 45, 55, 40, 55, 40, 55, 50, 50],\n",
    "              [40, 55, 40, 50, 45, 40, 40, 55, 35, 45, 30, 45, 30, 45, 40, 40],\n",
    "              [45, 60, 45, 55, 50, 45, 45, 60, 40, 50, 35, 50, 35, 50, 45, 45],\n",
    "              [50, 65, 50, 60, 55, 50, 50, 65, 45, 55, 40, 55, 40, 55, 50, 50],\n",
    "              [50, 65, 50, 60, 55, 50, 50, 65, 45, 55, 40, 55, 40, 55, 50, 50],\n",
    "              [35, 50, 35, 45, 40, 35, 35, 50, 30, 40, 25, 40, 25, 40, 35, 35],\n",
    "              [55, 70, 55, 65, 60, 55, 55, 70, 50, 60, 45, 60, 45, 60, 55, 55],\n",
    "              [45, 60, 45, 55, 50, 45, 45, 60, 40, 50, 35, 50, 35, 50, 45, 45],\n",
    "              [60, 75, 60, 70, 65, 60, 60, 75, 55, 65, 50, 65, 50, 65, 60, 60],\n",
    "              [45, 60, 45, 55, 50, 45, 45, 60, 40, 50, 35, 50, 35, 50, 45, 45],\n",
    "              [60, 75, 60, 70, 65, 60, 60, 75, 55, 65, 50, 65, 50, 65, 60, 60],\n",
    "              [45, 60, 45, 55, 50, 45, 45, 60, 40, 50, 35, 50, 35, 50, 45, 45],\n",
    "              [50, 65, 50, 60, 55, 50, 50, 65, 45, 55, 40, 55, 40, 55, 50, 50],\n",
    "              [50, 65, 50, 60, 55, 50, 50, 65, 45, 55, 40, 55, 40, 55, 50, 50]])\n",
    "\n",
    "win = France98(P)\n",
    "for country, proba in zip(countries, win):\n",
    "    print(country.ljust(10), '\\t', f'p={round(proba * 100, 2)}%')"
   ]
  }
 ],
 "metadata": {
  "kernelspec": {
   "display_name": "Python 3",
   "language": "python",
   "name": "python3"
  },
  "language_info": {
   "codemirror_mode": {
    "name": "ipython",
    "version": 3
   },
   "file_extension": ".py",
   "mimetype": "text/x-python",
   "name": "python",
   "nbconvert_exporter": "python",
   "pygments_lexer": "ipython3",
   "version": "3.7.9"
  },
  "papermill": {
   "default_parameters": {},
   "duration": 6.186594,
   "end_time": "2021-02-24T17:11:55.082131",
   "environment_variables": {},
   "exception": null,
   "input_path": "__notebook__.ipynb",
   "output_path": "__notebook__.ipynb",
   "parameters": {},
   "start_time": "2021-02-24T17:11:48.895537",
   "version": "2.2.2"
  }
 },
 "nbformat": 4,
 "nbformat_minor": 4
}
